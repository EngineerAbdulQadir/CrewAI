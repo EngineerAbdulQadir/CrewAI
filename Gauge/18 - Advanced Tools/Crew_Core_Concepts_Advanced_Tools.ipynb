{
  "nbformat": 4,
  "nbformat_minor": 0,
  "metadata": {
    "colab": {
      "provenance": []
    },
    "kernelspec": {
      "name": "python3",
      "display_name": "Python 3"
    },
    "language_info": {
      "name": "python"
    }
  },
  "cells": [
    {
      "cell_type": "code",
      "execution_count": null,
      "metadata": {
        "id": "PNAH5WknLI-G"
      },
      "outputs": [],
      "source": [
        "from pydantic import BaseModel, Field\n",
        "\n",
        "class TeacherAssignmentOutPut(BaseModel):\n",
        "  score :int  = Field(..., description=\"student assignment score\")\n",
        "  feedback : str = Field(..., description=\"teacher feedback\")\n",
        "  question : str = Field(..., description=\"question\")\n",
        "  answer : str = Field(..., description=\"python code for markdown format\")"
      ]
    },
    {
      "cell_type": "code",
      "execution_count": null,
      "metadata": {
        "id": "WUixMgopLPob"
      },
      "outputs": [],
      "source": [
        "from crewai import Agent\n",
        "from crewai_tools import CodeInterpreterTool\n",
        "from crewai import Task, Crew, Process\n",
        "\n",
        "teacher = Agent(\n",
        "    role=\"AI teacher\",\n",
        "    goal=\"you are Agentic AI teacher you have to check python assignment code submission.\",\n",
        "    backstory=\"you have to check student python code submission.\",\n",
        "    tools=[CodeInterpreterTool()],\n",
        "    llm=llm1\n",
        ")\n",
        "\n",
        "assignment_check = Task(\n",
        "    description=\"you are Agentic AI teacher you have to check python assignment code submission. question: '''{qestion}''' student solution : '''{solution}''' \",\n",
        "    expected_output=\"final code is runing, assign number between 1-10\",\n",
        "    output_pydantic=TeacherAssignmentOutPut,\n",
        "    agent=teacher # Added the missing agent here\n",
        ")\n",
        "\n",
        "\n",
        "crew = Crew(\n",
        "    agents=[teacher],\n",
        "    tasks=[assignment_check],\n",
        "    process=Process.sequential,\n",
        "    verbose=True,\n",
        ")\n",
        "\n",
        "question = \"create function add two numbers\"\n",
        "\n",
        "solution = \"\"\"\n",
        "def add_two_number(num1 : int , num2 : int):\n",
        "  return num1 + num2\n",
        "\n",
        "\"\"\"\n",
        "\n",
        "result = crew.kickoff(inputs={\n",
        "    \"qestion\": question,\n",
        "    \"solution\" : solution\n",
        "})\n",
        "\n",
        "print(result)"
      ]
    }
  ]
}