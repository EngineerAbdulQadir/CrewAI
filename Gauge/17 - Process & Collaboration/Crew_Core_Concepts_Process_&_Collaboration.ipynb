{
  "nbformat": 4,
  "nbformat_minor": 0,
  "metadata": {
    "colab": {
      "provenance": []
    },
    "kernelspec": {
      "name": "python3",
      "display_name": "Python 3"
    },
    "language_info": {
      "name": "python"
    }
  },
  "cells": [
    {
      "cell_type": "code",
      "execution_count": null,
      "metadata": {
        "id": "SsZGkXp9Kwjp"
      },
      "outputs": [],
      "source": [
        "import os\n",
        "from crewai import Agent, Task, Crew, Process\n",
        "\n",
        "# Importing crewAI tools\n",
        "from crewai_tools import (\n",
        "    DirectoryReadTool,\n",
        "    FileReadTool,\n",
        "    SerperDevTool,\n",
        "    WebsiteSearchTool\n",
        ")\n",
        "\n",
        "\n",
        "\n",
        "# Instantiate tools\n",
        "docs_tool = DirectoryReadTool(directory='./blog-posts2')\n",
        "file_tool = FileReadTool()\n",
        "search_tool = SerperDevTool()\n",
        "web_rag_tool = WebsiteSearchTool()\n",
        "\n",
        "# Define your agents\n",
        "researcher = Agent(\n",
        "    role=\"Researcher\",\n",
        "    goal=\"Conduct thorough research and analysis on AI and AI agents\",\n",
        "    backstory=\"You're an expert researcher, specialized in technology, software engineering, AI, and startups. You work as a freelancer and are currently researching for a new client.\",\n",
        "    allow_delegation=False,\n",
        "    tools=[search_tool,web_rag_tool],\n",
        "    llm=llm1\n",
        ")\n",
        "\n",
        "writer = Agent(\n",
        "    role=\"Senior Writer\",\n",
        "    goal=\"Create compelling content about AI and AI agents\",\n",
        "    backstory=\"You're a senior writer, specialized in technology, software engineering, AI, and startups. You work as a freelancer and are currently writing content for a new client.\",\n",
        "    allow_delegation=False,\n",
        "    tools=[docs_tool,file_tool],\n",
        "    llm=llm1\n",
        ")\n",
        "\n",
        "# Define your task\n",
        "task = Task(\n",
        "    description=\"Generate a list of 5 interesting ideas for an article, then write one captivating paragraph for each idea that showcases the potential of a full article on this topic. Return the list of ideas with their paragraphs and your notes.\",\n",
        "    expected_output=\"5 bullet points, each with a paragraph and accompanying notes.\",\n",
        ")\n",
        "\n",
        "# Define the manager agent\n",
        "manager = Agent(\n",
        "    role=\"Project Manager\",\n",
        "    goal=\"Efficiently manage the crew and ensure high-quality task completion\",\n",
        "    backstory=\"You're an experienced project manager, skilled in overseeing complex projects and guiding teams to success. Your role is to coordinate the efforts of the crew members, ensuring that each task is completed on time and to the highest standard.\",\n",
        "    allow_delegation=True,\n",
        "    llm=llm1\n",
        ")\n",
        "\n",
        "# Instantiate your crew with a custom manager\n",
        "crew = Crew(\n",
        "    agents=[researcher, writer],\n",
        "    tasks=[task],\n",
        "    manager_agent=manager,\n",
        "    function_calling_llm=llm1,\n",
        "    process=Process.hierarchical,\n",
        "    verbose=True\n",
        "\n",
        ")\n",
        "\n",
        "# Start the crew's work\n",
        "result = crew.kickoff()\n",
        "from IPython.display import Markdown\n",
        "\n",
        "Markdown(result.raw)"
      ]
    }
  ]
}