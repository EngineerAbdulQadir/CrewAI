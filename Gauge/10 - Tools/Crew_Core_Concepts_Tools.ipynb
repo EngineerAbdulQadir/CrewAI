{
  "nbformat": 4,
  "nbformat_minor": 0,
  "metadata": {
    "colab": {
      "provenance": []
    },
    "kernelspec": {
      "name": "python3",
      "display_name": "Python 3"
    },
    "language_info": {
      "name": "python"
    }
  },
  "cells": [
    {
      "cell_type": "code",
      "execution_count": null,
      "metadata": {
        "id": "dp_ouFKUKEkN"
      },
      "outputs": [],
      "source": [
        "import os\n",
        "from crewai import Agent, Task, Crew\n",
        "# Importing crewAI tools\n",
        "from crewai_tools import (\n",
        "    DirectoryReadTool,\n",
        "    FileReadTool,\n",
        "    SerperDevTool,\n",
        "    WebsiteSearchTool\n",
        ")\n",
        "\n",
        "# Set up API keys\n",
        "os.environ[\"SERPER_API_KEY\"] = userdata.get('SERPER_API_KEY') # serper.dev API key\n",
        "os.environ[\"OPENAI_API_KEY\"] = userdata.get('OPENAI_API_KEY')\n",
        "\n",
        "# Instantiate tools\n",
        "docs_tool = DirectoryReadTool(directory='./blog-posts')\n",
        "file_tool = FileReadTool()\n",
        "search_tool = SerperDevTool()\n",
        "web_rag_tool = WebsiteSearchTool()\n",
        "\n",
        "# Create agents\n",
        "researcher = Agent(\n",
        "    role='Market Research Analyst',\n",
        "    goal='Provide up-to-date market analysis of the AI industry',\n",
        "    backstory='An expert analyst with a keen eye for market trends.',\n",
        "    tools=[search_tool, web_rag_tool],\n",
        "    verbose=True,\n",
        "    llm=llm1\n",
        ")\n",
        "\n",
        "writer = Agent(\n",
        "    role='Content Writer',\n",
        "    goal='Craft engaging blog posts about the AI industry',\n",
        "    backstory='A skilled writer with a passion for technology.',\n",
        "    tools=[docs_tool, file_tool],\n",
        "    verbose=True,\n",
        "    llm=llm1\n",
        ")\n",
        "\n",
        "# Define tasks\n",
        "research = Task(\n",
        "    description='Research the latest trends in the AI industry and provide a summary.',\n",
        "    expected_output='A summary of the top 3 trending developments in the AI industry with a unique perspective on their significance.',\n",
        "    agent=researcher\n",
        ")\n",
        "\n",
        "write = Task(\n",
        "    description='Write an engaging blog post about the AI industry, based on the research analyst’s summary. Draw inspiration from the latest blog posts in the directory.',\n",
        "    expected_output='A 4-paragraph blog post formatted in markdown with engaging, informative, and accessible content, avoiding complex jargon.',\n",
        "    agent=writer,\n",
        "    output_file='blog-posts/new_post.md'  # The final blog post will be saved here\n",
        ")\n",
        "\n",
        "# Assemble a crew with planning enabled\n",
        "crew = Crew(\n",
        "    agents=[researcher, writer],\n",
        "    tasks=[research, write],\n",
        "    verbose=True,\n",
        "    planning=True,  # Enable planning feature\n",
        "    planning_llm=llm1\n",
        ")\n",
        "\n",
        "# Execute tasks\n",
        "crew.kickoff()"
      ]
    },
    {
      "cell_type": "code",
      "source": [
        "from crewai.tools import BaseTool\n",
        "from pydantic import BaseModel, Field\n",
        "from typing import Type\n",
        "\n",
        "class MyToolInput(BaseModel):\n",
        "    \"\"\"Input schema for MyCustomTool.\"\"\"\n",
        "    student_name: str = Field(..., description=\"Student name\")\n",
        "    student_roll_no : int = Field(..., description=\"student id\")\n",
        "\n",
        "class PiaicStudentCard(BaseTool):\n",
        "    name: str = \"Piaic student card generator\"\n",
        "    description: str = \"this function will create Piaic student card\"\n",
        "    args_schema: Type[BaseModel] = MyToolInput\n",
        "\n",
        "    def _run(self, student_name: str, student_roll_no: int ) -> str:\n",
        "        # Your tool's logic here\n",
        "        return f\"\"\"PIAIC student card\n",
        "student name: {student_name}\n",
        "student roll no: {student_roll_no}\n",
        "Pakistan zindabd!\n",
        "        \"\"\""
      ],
      "metadata": {
        "id": "MXblY0CJKUhm"
      },
      "execution_count": null,
      "outputs": []
    },
    {
      "cell_type": "code",
      "source": [
        "from crewai.tools import tool\n",
        "\n",
        "@tool(\"PIAIC fee update\")\n",
        "def my_tool(roll_no: int) -> dict | str:\n",
        "    \"\"\"this function search piaic student fee updates, it will required roll no of PIAIC student\"\"\"\n",
        "    #database\n",
        "\n",
        "    data = {100:'paid',\n",
        "         200:'unpaid'}\n",
        "\n",
        "\n",
        "    status = data.get(roll_no)\n",
        "\n",
        "    if status:\n",
        "      return {\"status\": status}\n",
        "    else:\n",
        "      return \"student not found\""
      ],
      "metadata": {
        "id": "i8fia8diKZqD"
      },
      "execution_count": null,
      "outputs": []
    },
    {
      "cell_type": "code",
      "source": [
        "from crewai import Agent, Task, Crew\n",
        "\n",
        "card = PiaicStudentCard()\n",
        "\n",
        "\n",
        "piaic_manager = Agent(\n",
        "    role=\"PIAIC manager\",\n",
        "    goal = \"Manage all quries regarding PIAIC and you will use only relevant tools for student query\",\n",
        "    backstory=\"\"\"You are a master at understanding people and their preferences.\"\"\",\n",
        "    tools=[card, my_tool],\n",
        "    verbose=True,\n",
        "    llm=llm1\n",
        ")\n",
        "\n",
        "piaic_card_creator = Task(\n",
        "    description=\"you will be responsible for all PIAIC relevant operations, student query '{query}' you must be know how to answer his question based on final context\",\n",
        "    expected_output=\"final query answer only\",\n",
        "    agent=piaic_manager\n",
        ")\n",
        "\n",
        "crew = Crew(\n",
        "    agents=[piaic_manager],\n",
        "    tasks=[piaic_card_creator],\n",
        "    verbose=True\n",
        ")\n",
        "\n",
        "result = crew.kickoff(inputs={\n",
        "    \"query\":\"I'm PIAIC student my name is Abdul Qadir and my roll number is 100, can you create my student card.\"\n",
        "})\n",
        "\n",
        "print(result)"
      ],
      "metadata": {
        "id": "g2lwu5RvKbek"
      },
      "execution_count": null,
      "outputs": []
    },
    {
      "cell_type": "code",
      "source": [
        "result = crew.kickoff(inputs={\n",
        "    \"query\":\"I'm PIAIC student  my roll number is 100, can you share my fee updates?.\"\n",
        "})\n",
        "\n",
        "print(result)"
      ],
      "metadata": {
        "id": "GyFV_df5KeQ5"
      },
      "execution_count": null,
      "outputs": []
    },
    {
      "cell_type": "code",
      "source": [
        "result = crew.kickoff(inputs={\n",
        "    \"query\":\"I'm PIAIC student  my roll number is 200, can you share my fee updates?.\"\n",
        "})\n",
        "\n",
        "print(result)"
      ],
      "metadata": {
        "id": "7H8GGw3LKg0u"
      },
      "execution_count": null,
      "outputs": []
    }
  ]
}