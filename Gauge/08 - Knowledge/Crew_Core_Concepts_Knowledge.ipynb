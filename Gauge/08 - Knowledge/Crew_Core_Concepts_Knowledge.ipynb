{
  "nbformat": 4,
  "nbformat_minor": 0,
  "metadata": {
    "colab": {
      "provenance": []
    },
    "kernelspec": {
      "name": "python3",
      "display_name": "Python 3"
    },
    "language_info": {
      "name": "python"
    }
  },
  "cells": [
    {
      "cell_type": "code",
      "execution_count": null,
      "metadata": {
        "id": "M7eVU8WzJRXd"
      },
      "outputs": [],
      "source": [
        "from crewai import Agent, Task, Crew, Process, LLM\n",
        "from crewai.knowledge.source.string_knowledge_source import StringKnowledgeSource\n",
        "\n",
        "# Create a knowledge source\n",
        "content = \"User name is Abdul Qadir. He is 17 years old and lives in Karchi, Pakistan. He is working as CEO at GloProg\"\n",
        "string_source = StringKnowledgeSource(\n",
        "    content=content,\n",
        ")\n",
        "\n",
        "\n",
        "# Create an agent with the knowledge store\n",
        "agent = Agent(\n",
        "    role=\"About User\",\n",
        "    goal=\"You know everything about the user.\",\n",
        "    backstory=\"\"\"You are a master at understanding people and their preferences.\"\"\",\n",
        "    verbose=True,\n",
        "    allow_delegation=False,\n",
        "    llm=llm1,\n",
        ")\n",
        "task = Task(\n",
        "    description=\"Answer the following questions about the user: {question}\",\n",
        "    expected_output=\"An answer to the question.\",\n",
        "    agent=agent,\n",
        ")\n",
        "\n",
        "crew = Crew(\n",
        "    memory=True,\n",
        "    agents=[agent],\n",
        "    tasks=[task],\n",
        "    verbose=True,\n",
        "    process=Process.sequential,\n",
        "    knowledge_sources=[string_source], # Enable knowledge by adding the sources here. You can also add more sources to the sources list.\n",
        "    embedder=google_embedder\n",
        "\n",
        ")\n",
        "\n",
        "result = crew.kickoff(inputs={\"question\": \"What city does Abdul Qadir lives in and how old is he?\"})"
      ]
    }
  ]
}