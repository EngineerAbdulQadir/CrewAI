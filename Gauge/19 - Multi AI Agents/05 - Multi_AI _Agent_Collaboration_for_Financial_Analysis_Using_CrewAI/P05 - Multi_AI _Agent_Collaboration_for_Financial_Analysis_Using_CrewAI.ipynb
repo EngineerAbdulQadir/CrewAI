{
  "nbformat": 4,
  "nbformat_minor": 0,
  "metadata": {
    "colab": {
      "provenance": []
    },
    "kernelspec": {
      "name": "python3",
      "display_name": "Python 3"
    },
    "language_info": {
      "name": "python"
    }
  },
  "cells": [
    {
      "cell_type": "markdown",
      "source": [
        "# Multi AI Agent Collaboration for Financial Analysis\n",
        "\n"
      ],
      "metadata": {
        "id": "BQBN3uzT_EcE"
      }
    },
    {
      "cell_type": "markdown",
      "source": [
        "## Install Libraries"
      ],
      "metadata": {
        "id": "Io3XvK74BMrg"
      }
    },
    {
      "cell_type": "code",
      "execution_count": null,
      "metadata": {
        "id": "pAO05Pnh-Ove"
      },
      "outputs": [],
      "source": [
        "!pip install crewai==0.28.8 crewai_tools==0.1.6 langchain_community==0.0.29"
      ]
    },
    {
      "cell_type": "markdown",
      "source": [
        "## Warning Control"
      ],
      "metadata": {
        "id": "L0jx5PU0BPBc"
      }
    },
    {
      "cell_type": "code",
      "source": [
        "import warnings\n",
        "warnings.filterwarnings('ignore')"
      ],
      "metadata": {
        "id": "4yJEvTR6_MFq"
      },
      "execution_count": null,
      "outputs": []
    },
    {
      "cell_type": "markdown",
      "source": [
        "## Importing Essentials"
      ],
      "metadata": {
        "id": "XTNXnNppBRcN"
      }
    },
    {
      "cell_type": "code",
      "source": [
        "from crewai import Agent, Task, Crew"
      ],
      "metadata": {
        "id": "xCkVaT9h_Nim"
      },
      "execution_count": null,
      "outputs": []
    },
    {
      "cell_type": "markdown",
      "source": [
        "## Initializing API Key"
      ],
      "metadata": {
        "id": "s-dlSfEJBUl5"
      }
    },
    {
      "cell_type": "code",
      "source": [
        "import os\n",
        "from utils import get_openai_api_key, get_serper_api_key\n",
        "\n",
        "openai_api_key = get_openai_api_key()\n",
        "os.environ[\"OPENAI_MODEL_NAME\"] = 'gpt-3.5-turbo'\n",
        "os.environ[\"SERPER_API_KEY\"] = get_serper_api_key()"
      ],
      "metadata": {
        "id": "hCssYwD6_O1e"
      },
      "execution_count": null,
      "outputs": []
    },
    {
      "cell_type": "markdown",
      "source": [
        "## Tools"
      ],
      "metadata": {
        "id": "OKu2gqVbBalw"
      }
    },
    {
      "cell_type": "code",
      "source": [
        "from crewai_tools import ScrapeWebsiteTool, SerperDevTool\n",
        "\n",
        "search_tool = SerperDevTool()\n",
        "scrape_tool = ScrapeWebsiteTool()"
      ],
      "metadata": {
        "id": "MmBLGgy2_WVa"
      },
      "execution_count": null,
      "outputs": []
    },
    {
      "cell_type": "markdown",
      "source": [
        "## Agent - Data Analyst"
      ],
      "metadata": {
        "id": "wfGqGBzmBcmz"
      }
    },
    {
      "cell_type": "code",
      "source": [
        "data_analyst_agent = Agent(\n",
        "    role=\"Data Analyst\",\n",
        "    goal=\"Monitor and analyze market data in real-time \"\n",
        "         \"to identify trends and predict market movements.\",\n",
        "    backstory=\"Specializing in financial markets, this agent \"\n",
        "              \"uses statistical modeling and machine learning \"\n",
        "              \"to provide crucial insights. With a knack for data, \"\n",
        "              \"the Data Analyst Agent is the cornerstone for \"\n",
        "              \"informing trading decisions.\",\n",
        "    verbose=True,\n",
        "    allow_delegation=True,\n",
        "    tools = [scrape_tool, search_tool]\n",
        ")"
      ],
      "metadata": {
        "id": "noTQgpRl_ZDm"
      },
      "execution_count": null,
      "outputs": []
    },
    {
      "cell_type": "markdown",
      "source": [
        "## Agent - Trading Startegy"
      ],
      "metadata": {
        "id": "eFt_49ZdBgi5"
      }
    },
    {
      "cell_type": "code",
      "source": [
        "trading_strategy_agent = Agent(\n",
        "    role=\"Trading Strategy Developer\",\n",
        "    goal=\"Develop and test various trading strategies based \"\n",
        "         \"on insights from the Data Analyst Agent.\",\n",
        "    backstory=\"Equipped with a deep understanding of financial \"\n",
        "              \"markets and quantitative analysis, this agent \"\n",
        "              \"devises and refines trading strategies. It evaluates \"\n",
        "              \"the performance of different approaches to determine \"\n",
        "              \"the most profitable and risk-averse options.\",\n",
        "    verbose=True,\n",
        "    allow_delegation=True,\n",
        "    tools = [scrape_tool, search_tool]\n",
        ")"
      ],
      "metadata": {
        "id": "YR9kU5JP_cDT"
      },
      "execution_count": null,
      "outputs": []
    },
    {
      "cell_type": "markdown",
      "source": [
        "## Agent - Execution"
      ],
      "metadata": {
        "id": "xncaCYlrBvDe"
      }
    },
    {
      "cell_type": "code",
      "source": [
        "execution_agent = Agent(\n",
        "    role=\"Trade Advisor\",\n",
        "    goal=\"Suggest optimal trade execution strategies \"\n",
        "         \"based on approved trading strategies.\",\n",
        "    backstory=\"This agent specializes in analyzing the timing, price, \"\n",
        "              \"and logistical details of potential trades. By evaluating \"\n",
        "              \"these factors, it provides well-founded suggestions for \"\n",
        "              \"when and how trades should be executed to maximize \"\n",
        "              \"efficiency and adherence to strategy.\",\n",
        "    verbose=True,\n",
        "    allow_delegation=True,\n",
        "    tools = [scrape_tool, search_tool]\n",
        ")"
      ],
      "metadata": {
        "id": "jkgG8U7l_fPD"
      },
      "execution_count": null,
      "outputs": []
    },
    {
      "cell_type": "markdown",
      "source": [
        "## Agent - Risk Management"
      ],
      "metadata": {
        "id": "ZoRd_qRiB6YW"
      }
    },
    {
      "cell_type": "code",
      "source": [
        "risk_management_agent = Agent(\n",
        "    role=\"Risk Advisor\",\n",
        "    goal=\"Evaluate and provide insights on the risks \"\n",
        "         \"associated with potential trading activities.\",\n",
        "    backstory=\"Armed with a deep understanding of risk assessment models \"\n",
        "              \"and market dynamics, this agent scrutinizes the potential \"\n",
        "              \"risks of proposed trades. It offers a detailed analysis of \"\n",
        "              \"risk exposure and suggests safeguards to ensure that \"\n",
        "              \"trading activities align with the firm’s risk tolerance.\",\n",
        "    verbose=True,\n",
        "    allow_delegation=True,\n",
        "    tools = [scrape_tool, search_tool]\n",
        ")"
      ],
      "metadata": {
        "id": "drDmaANz_hEq"
      },
      "execution_count": null,
      "outputs": []
    },
    {
      "cell_type": "markdown",
      "source": [
        "## Task - Data Analysis"
      ],
      "metadata": {
        "id": "5nbc-7CiCEQr"
      }
    },
    {
      "cell_type": "code",
      "source": [
        "data_analysis_task = Task(\n",
        "    description=(\n",
        "        \"Continuously monitor and analyze market data for \"\n",
        "        \"the selected stock ({stock_selection}). \"\n",
        "        \"Use statistical modeling and machine learning to \"\n",
        "        \"identify trends and predict market movements.\"\n",
        "    ),\n",
        "    expected_output=(\n",
        "        \"Insights and alerts about significant market \"\n",
        "        \"opportunities or threats for {stock_selection}.\"\n",
        "    ),\n",
        "    agent=data_analyst_agent,\n",
        ")"
      ],
      "metadata": {
        "id": "H--3ipoR_mWZ"
      },
      "execution_count": null,
      "outputs": []
    },
    {
      "cell_type": "markdown",
      "source": [
        "## Task - Startegy Development"
      ],
      "metadata": {
        "id": "Qasn5g_kCJDH"
      }
    },
    {
      "cell_type": "code",
      "source": [
        "strategy_development_task = Task(\n",
        "    description=(\n",
        "        \"Develop and refine trading strategies based on \"\n",
        "        \"the insights from the Data Analyst and \"\n",
        "        \"user-defined risk tolerance ({risk_tolerance}). \"\n",
        "        \"Consider trading preferences ({trading_strategy_preference}).\"\n",
        "    ),\n",
        "    expected_output=(\n",
        "        \"A set of potential trading strategies for {stock_selection} \"\n",
        "        \"that align with the user's risk tolerance.\"\n",
        "    ),\n",
        "    agent=trading_strategy_agent,\n",
        ")"
      ],
      "metadata": {
        "id": "o5J65aTB_oq2"
      },
      "execution_count": null,
      "outputs": []
    },
    {
      "cell_type": "markdown",
      "source": [
        "## Task - Execution Planning"
      ],
      "metadata": {
        "id": "mU390e2YCRtF"
      }
    },
    {
      "cell_type": "code",
      "source": [
        "execution_planning_task = Task(\n",
        "    description=(\n",
        "        \"Analyze approved trading strategies to determine the \"\n",
        "        \"best execution methods for {stock_selection}, \"\n",
        "        \"considering current market conditions and optimal pricing.\"\n",
        "    ),\n",
        "    expected_output=(\n",
        "        \"Detailed execution plans suggesting how and when to \"\n",
        "        \"execute trades for {stock_selection}.\"\n",
        "    ),\n",
        "    agent=execution_agent,\n",
        ")"
      ],
      "metadata": {
        "id": "ysVNgegk_qs7"
      },
      "execution_count": null,
      "outputs": []
    },
    {
      "cell_type": "markdown",
      "source": [
        "# Task - Risk Assessment"
      ],
      "metadata": {
        "id": "JCd4P0kqCXb9"
      }
    },
    {
      "cell_type": "code",
      "source": [
        "risk_assessment_task = Task(\n",
        "    description=(\n",
        "        \"Evaluate the risks associated with the proposed trading \"\n",
        "        \"strategies and execution plans for {stock_selection}. \"\n",
        "        \"Provide a detailed analysis of potential risks \"\n",
        "        \"and suggest mitigation strategies.\"\n",
        "    ),\n",
        "    expected_output=(\n",
        "        \"A comprehensive risk analysis report detailing potential \"\n",
        "        \"risks and mitigation recommendations for {stock_selection}.\"\n",
        "    ),\n",
        "    agent=risk_management_agent,\n",
        ")"
      ],
      "metadata": {
        "id": "J_PluWCK_uZI"
      },
      "execution_count": null,
      "outputs": []
    },
    {
      "cell_type": "markdown",
      "source": [
        "## Creating The Crew"
      ],
      "metadata": {
        "id": "u_1y6IvIClbU"
      }
    },
    {
      "cell_type": "code",
      "source": [
        "from crewai import Crew, Process\n",
        "from langchain_openai import ChatOpenAI\n",
        "\n",
        "financial_trading_crew = Crew(\n",
        "    agents=[data_analyst_agent,\n",
        "            trading_strategy_agent,\n",
        "            execution_agent,\n",
        "            risk_management_agent],\n",
        "\n",
        "    tasks=[data_analysis_task,\n",
        "           strategy_development_task,\n",
        "           execution_planning_task,\n",
        "           risk_assessment_task],\n",
        "\n",
        "    manager_llm=ChatOpenAI(model=\"gpt-3.5-turbo\",\n",
        "                           temperature=0.7),\n",
        "    process=Process.hierarchical,\n",
        "    verbose=True\n",
        ")"
      ],
      "metadata": {
        "id": "j2DoGBbq_xtC"
      },
      "execution_count": null,
      "outputs": []
    },
    {
      "cell_type": "markdown",
      "source": [
        "## Giving Input"
      ],
      "metadata": {
        "id": "Dc2pFOH3Co1B"
      }
    },
    {
      "cell_type": "code",
      "source": [
        "financial_trading_inputs = {\n",
        "    'stock_selection': 'AAPL',\n",
        "    'initial_capital': '100000',\n",
        "    'risk_tolerance': 'Medium',\n",
        "    'trading_strategy_preference': 'Day Trading',\n",
        "    'news_impact_consideration': True\n",
        "}"
      ],
      "metadata": {
        "id": "CzWedQ9r_1c_"
      },
      "execution_count": null,
      "outputs": []
    },
    {
      "cell_type": "markdown",
      "source": [
        "## Running The Crew"
      ],
      "metadata": {
        "id": "z9m-GwRBCtsV"
      }
    },
    {
      "cell_type": "code",
      "source": [
        "result = financial_trading_crew.kickoff(inputs=financial_trading_inputs)"
      ],
      "metadata": {
        "id": "j9tkvifGAD3W"
      },
      "execution_count": null,
      "outputs": []
    },
    {
      "cell_type": "markdown",
      "source": [
        "## Converting Into Markdown"
      ],
      "metadata": {
        "id": "EpQpzDdzCy_B"
      }
    },
    {
      "cell_type": "code",
      "source": [
        "from IPython.display import Markdown\n",
        "Markdown(result)"
      ],
      "metadata": {
        "id": "8F1DuHaRAGSG"
      },
      "execution_count": null,
      "outputs": []
    },
    {
      "cell_type": "markdown",
      "source": [
        "### The End..."
      ],
      "metadata": {
        "id": "vjcHSVo3AK8m"
      }
    }
  ]
}