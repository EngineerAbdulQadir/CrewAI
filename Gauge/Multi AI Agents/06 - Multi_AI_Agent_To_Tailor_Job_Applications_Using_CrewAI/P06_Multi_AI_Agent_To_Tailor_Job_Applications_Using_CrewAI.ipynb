{
  "nbformat": 4,
  "nbformat_minor": 0,
  "metadata": {
    "colab": {
      "provenance": []
    },
    "kernelspec": {
      "name": "python3",
      "display_name": "Python 3"
    },
    "language_info": {
      "name": "python"
    }
  },
  "cells": [
    {
      "cell_type": "markdown",
      "source": [
        "# Multi AI Agent To Tailor Job Applications Using CrewAI"
      ],
      "metadata": {
        "id": "EoijXQSPDxOJ"
      }
    },
    {
      "cell_type": "markdown",
      "source": [
        "## Install Libraries"
      ],
      "metadata": {
        "id": "Nqqb-YpEE67z"
      }
    },
    {
      "cell_type": "code",
      "execution_count": null,
      "metadata": {
        "id": "Qx1MdYeGDU4z"
      },
      "outputs": [],
      "source": [
        "!pip install crewai==0.28.8 crewai_tools==0.1.6 langchain_community==0.0.29"
      ]
    },
    {
      "cell_type": "markdown",
      "source": [
        "## Warning Control"
      ],
      "metadata": {
        "id": "pBrxuGDAE-02"
      }
    },
    {
      "cell_type": "code",
      "source": [
        "import warnings\n",
        "warnings.filterwarnings('ignore')"
      ],
      "metadata": {
        "id": "h1Cal3xcD43U"
      },
      "execution_count": null,
      "outputs": []
    },
    {
      "cell_type": "markdown",
      "source": [
        "## Importing Essentials"
      ],
      "metadata": {
        "id": "Yo8Jt-BxFB4u"
      }
    },
    {
      "cell_type": "code",
      "source": [
        "from crewai import Agent, Task, Crew"
      ],
      "metadata": {
        "id": "LlIc1DQWD6kb"
      },
      "execution_count": null,
      "outputs": []
    },
    {
      "cell_type": "markdown",
      "source": [
        "## Initializing API Key"
      ],
      "metadata": {
        "id": "yZY7c-UlFJcR"
      }
    },
    {
      "cell_type": "code",
      "source": [
        "import os\n",
        "from utils import get_openai_api_key, get_serper_api_key\n",
        "\n",
        "openai_api_key = get_openai_api_key()\n",
        "os.environ[\"OPENAI_MODEL_NAME\"] = 'gpt-3.5-turbo'\n",
        "os.environ[\"SERPER_API_KEY\"] = get_serper_api_key()"
      ],
      "metadata": {
        "id": "6lA_utBXD81e"
      },
      "execution_count": null,
      "outputs": []
    },
    {
      "cell_type": "markdown",
      "source": [
        "## Tools"
      ],
      "metadata": {
        "id": "jxzH-ZpBFQfG"
      }
    },
    {
      "cell_type": "code",
      "source": [
        "from crewai_tools import (\n",
        "  FileReadTool,\n",
        "  ScrapeWebsiteTool,\n",
        "  MDXSearchTool,\n",
        "  SerperDevTool\n",
        ")\n",
        "\n",
        "search_tool = SerperDevTool()\n",
        "scrape_tool = ScrapeWebsiteTool()\n",
        "read_resume = FileReadTool(file_path='./fake_resume.md')\n",
        "semantic_search_resume = MDXSearchTool(mdx='./fake_resume.md')"
      ],
      "metadata": {
        "id": "RIdFUWCsD-v8"
      },
      "execution_count": null,
      "outputs": []
    },
    {
      "cell_type": "markdown",
      "source": [
        "## Agent - Researcher"
      ],
      "metadata": {
        "id": "TjqEeRyxFaF2"
      }
    },
    {
      "cell_type": "code",
      "source": [
        "researcher = Agent(\n",
        "    role=\"Tech Job Researcher\",\n",
        "    goal=\"Make sure to do amazing analysis on \"\n",
        "         \"job posting to help job applicants\",\n",
        "    tools = [scrape_tool, search_tool],\n",
        "    verbose=True,\n",
        "    backstory=(\n",
        "        \"As a Job Researcher, your prowess in \"\n",
        "        \"navigating and extracting critical \"\n",
        "        \"information from job postings is unmatched.\"\n",
        "        \"Your skills help pinpoint the necessary \"\n",
        "        \"qualifications and skills sought \"\n",
        "        \"by employers, forming the foundation for \"\n",
        "        \"effective application tailoring.\"\n",
        "    )\n",
        ")"
      ],
      "metadata": {
        "id": "AvXZy4VQEC7q"
      },
      "execution_count": null,
      "outputs": []
    },
    {
      "cell_type": "markdown",
      "source": [
        "## Agent - Profiler"
      ],
      "metadata": {
        "id": "0kf5VV06Fdgg"
      }
    },
    {
      "cell_type": "code",
      "source": [
        "profiler = Agent(\n",
        "    role=\"Personal Profiler for Engineers\",\n",
        "    goal=\"Do increditble research on job applicants \"\n",
        "         \"to help them stand out in the job market\",\n",
        "    tools = [scrape_tool, search_tool,\n",
        "             read_resume, semantic_search_resume],\n",
        "    verbose=True,\n",
        "    backstory=(\n",
        "        \"Equipped with analytical prowess, you dissect \"\n",
        "        \"and synthesize information \"\n",
        "        \"from diverse sources to craft comprehensive \"\n",
        "        \"personal and professional profiles, laying the \"\n",
        "        \"groundwork for personalized resume enhancements.\"\n",
        "    )\n",
        ")"
      ],
      "metadata": {
        "id": "oF3fZeqNEDjB"
      },
      "execution_count": null,
      "outputs": []
    },
    {
      "cell_type": "markdown",
      "source": [
        "## Resume Startegist"
      ],
      "metadata": {
        "id": "gtfCNttpFgVg"
      }
    },
    {
      "cell_type": "code",
      "source": [
        "resume_strategist = Agent(\n",
        "    role=\"Resume Strategist for Engineers\",\n",
        "    goal=\"Find all the best ways to make a \"\n",
        "         \"resume stand out in the job market.\",\n",
        "    tools = [scrape_tool, search_tool,\n",
        "             read_resume, semantic_search_resume],\n",
        "    verbose=True,\n",
        "    backstory=(\n",
        "        \"With a strategic mind and an eye for detail, you \"\n",
        "        \"excel at refining resumes to highlight the most \"\n",
        "        \"relevant skills and experiences, ensuring they \"\n",
        "        \"resonate perfectly with the job's requirements.\"\n",
        "    )\n",
        ")"
      ],
      "metadata": {
        "id": "RVKXo0REEFwi"
      },
      "execution_count": null,
      "outputs": []
    },
    {
      "cell_type": "markdown",
      "source": [
        "## Agent - Interview Preparer"
      ],
      "metadata": {
        "id": "MxmuOzePFj2X"
      }
    },
    {
      "cell_type": "code",
      "source": [
        "interview_preparer = Agent(\n",
        "    role=\"Engineering Interview Preparer\",\n",
        "    goal=\"Create interview questions and talking points \"\n",
        "         \"based on the resume and job requirements\",\n",
        "    tools = [scrape_tool, search_tool,\n",
        "             read_resume, semantic_search_resume],\n",
        "    verbose=True,\n",
        "    backstory=(\n",
        "        \"Your role is crucial in anticipating the dynamics of \"\n",
        "        \"interviews. With your ability to formulate key questions \"\n",
        "        \"and talking points, you prepare candidates for success, \"\n",
        "        \"ensuring they can confidently address all aspects of the \"\n",
        "        \"job they are applying for.\"\n",
        "    )\n",
        ")"
      ],
      "metadata": {
        "id": "WauohgZBF1Mv"
      },
      "execution_count": null,
      "outputs": []
    },
    {
      "cell_type": "markdown",
      "source": [
        "## Task - Research"
      ],
      "metadata": {
        "id": "LV-U-a_bF-0C"
      }
    },
    {
      "cell_type": "code",
      "source": [
        "research_task = Task(\n",
        "    description=(\n",
        "        \"Analyze the job posting URL provided ({job_posting_url}) \"\n",
        "        \"to extract key skills, experiences, and qualifications \"\n",
        "        \"required. Use the tools to gather content and identify \"\n",
        "        \"and categorize the requirements.\"\n",
        "    ),\n",
        "    expected_output=(\n",
        "        \"A structured list of job requirements, including necessary \"\n",
        "        \"skills, qualifications, and experiences.\"\n",
        "    ),\n",
        "    agent=researcher,\n",
        "    async_execution=True\n",
        ")"
      ],
      "metadata": {
        "id": "9v7fGAu-EKxk"
      },
      "execution_count": null,
      "outputs": []
    },
    {
      "cell_type": "markdown",
      "source": [
        "## Task - Profile"
      ],
      "metadata": {
        "id": "fm3lvzViGEub"
      }
    },
    {
      "cell_type": "code",
      "source": [
        "profile_task = Task(\n",
        "    description=(\n",
        "        \"Compile a detailed personal and professional profile \"\n",
        "        \"using the GitHub ({github_url}) URLs, and personal write-up \"\n",
        "        \"({personal_writeup}). Utilize tools to extract and \"\n",
        "        \"synthesize information from these sources.\"\n",
        "    ),\n",
        "    expected_output=(\n",
        "        \"A comprehensive profile document that includes skills, \"\n",
        "        \"project experiences, contributions, interests, and \"\n",
        "        \"communication style.\"\n",
        "    ),\n",
        "    agent=profiler,\n",
        "    async_execution=True\n",
        ")"
      ],
      "metadata": {
        "id": "BvrcOYIAEM7w"
      },
      "execution_count": null,
      "outputs": []
    },
    {
      "cell_type": "markdown",
      "source": [
        "## Task - Resume Strategist"
      ],
      "metadata": {
        "id": "x4u1bZkgGNrB"
      }
    },
    {
      "cell_type": "code",
      "source": [
        "resume_strategy_task = Task(\n",
        "    description=(\n",
        "        \"Using the profile and job requirements obtained from \"\n",
        "        \"previous tasks, tailor the resume to highlight the most \"\n",
        "        \"relevant areas. Employ tools to adjust and enhance the \"\n",
        "        \"resume content. Make sure this is the best resume even but \"\n",
        "        \"don't make up any information. Update every section, \"\n",
        "        \"inlcuding the initial summary, work experience, skills, \"\n",
        "        \"and education. All to better reflrect the candidates \"\n",
        "        \"abilities and how it matches the job posting.\"\n",
        "    ),\n",
        "    expected_output=(\n",
        "        \"An updated resume that effectively highlights the candidate's \"\n",
        "        \"qualifications and experiences relevant to the job.\"\n",
        "    ),\n",
        "    output_file=\"tailored_resume.md\",\n",
        "    context=[research_task, profile_task],\n",
        "    agent=resume_strategist\n",
        ")"
      ],
      "metadata": {
        "id": "9mUczF3dEPuZ"
      },
      "execution_count": null,
      "outputs": []
    },
    {
      "cell_type": "markdown",
      "source": [
        "## Task - Interview Preparation"
      ],
      "metadata": {
        "id": "4N4_pBFAGV30"
      }
    },
    {
      "cell_type": "code",
      "source": [
        "interview_preparation_task = Task(\n",
        "    description=(\n",
        "        \"Create a set of potential interview questions and talking \"\n",
        "        \"points based on the tailored resume and job requirements. \"\n",
        "        \"Utilize tools to generate relevant questions and discussion \"\n",
        "        \"points. Make sure to use these question and talking points to \"\n",
        "        \"help the candiadte highlight the main points of the resume \"\n",
        "        \"and how it matches the job posting.\"\n",
        "    ),\n",
        "    expected_output=(\n",
        "        \"A document containing key questions and talking points \"\n",
        "        \"that the candidate should prepare for the initial interview.\"\n",
        "    ),\n",
        "    output_file=\"interview_materials.md\",\n",
        "    context=[research_task, profile_task, resume_strategy_task],\n",
        "    agent=interview_preparer\n",
        ")"
      ],
      "metadata": {
        "id": "RT1Gm_7VEShZ"
      },
      "execution_count": null,
      "outputs": []
    },
    {
      "cell_type": "markdown",
      "source": [
        "## Creating The Crew"
      ],
      "metadata": {
        "id": "K2iy9OV0GZsC"
      }
    },
    {
      "cell_type": "code",
      "source": [
        "job_application_crew = Crew(\n",
        "    agents=[researcher,\n",
        "            profiler,\n",
        "            resume_strategist,\n",
        "            interview_preparer],\n",
        "\n",
        "    tasks=[research_task,\n",
        "           profile_task,\n",
        "           resume_strategy_task,\n",
        "           interview_preparation_task],\n",
        "\n",
        "    verbose=True\n",
        ")"
      ],
      "metadata": {
        "id": "ZNWDY2teEVAQ"
      },
      "execution_count": null,
      "outputs": []
    },
    {
      "cell_type": "markdown",
      "source": [
        "## Giving Input"
      ],
      "metadata": {
        "id": "udNcEGS1Gc1o"
      }
    },
    {
      "cell_type": "code",
      "source": [
        "job_application_inputs = {\n",
        "    'job_posting_url': 'https://jobs.lever.co/AIFund/6c82e23e-d954-4dd8-a734-c0c2c5ee00f1?lever-origin=applied&lever-source%5B%5D=AI+Fund',\n",
        "    'github_url': 'https://github.com/joaomdmoura',\n",
        "    'personal_writeup': \"\"\"Noah is an accomplished Software\n",
        "    Engineering Leader with 18 years of experience, specializing in\n",
        "    managing remote and in-office teams, and expert in multiple\n",
        "    programming languages and frameworks. He holds an MBA and a strong\n",
        "    background in AI and data science. Noah has successfully led\n",
        "    major tech initiatives and startups, proving his ability to drive\n",
        "    innovation and growth in the tech industry. Ideal for leadership\n",
        "    roles that require a strategic and innovative approach.\"\"\"\n",
        "}"
      ],
      "metadata": {
        "id": "F70r4dwNEW2F"
      },
      "execution_count": null,
      "outputs": []
    },
    {
      "cell_type": "markdown",
      "source": [
        "## Running The Crew"
      ],
      "metadata": {
        "id": "jdAGN1aFGghr"
      }
    },
    {
      "cell_type": "code",
      "source": [
        "result = job_application_crew.kickoff(inputs=job_application_inputs)"
      ],
      "metadata": {
        "id": "BqWVHL0oEZRs"
      },
      "execution_count": null,
      "outputs": []
    },
    {
      "cell_type": "markdown",
      "source": [
        "## Converting Into Markdown"
      ],
      "metadata": {
        "id": "uafUwgMtGjDP"
      }
    },
    {
      "cell_type": "code",
      "source": [
        "from IPython.display import Markdown, display\n",
        "display(Markdown(\"./tailored_resume.md\"))"
      ],
      "metadata": {
        "id": "HsgbE1KfEcjz"
      },
      "execution_count": null,
      "outputs": []
    },
    {
      "cell_type": "markdown",
      "source": [
        "## The End..."
      ],
      "metadata": {
        "id": "ijPDAl1jGnJy"
      }
    }
  ]
}